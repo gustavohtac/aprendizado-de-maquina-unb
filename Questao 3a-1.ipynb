{
 "cells": [
  {
   "cell_type": "code",
   "execution_count": null,
   "metadata": {},
   "outputs": [],
   "source": [
    "import numpy as np\n",
    "import pandas as pd\n",
    "from scipy.io.arff import loadarff \n",
    "\n",
    "from sklearn import tree, model_selection\n",
    "from sklearn.model_selection import train_test_split\n",
    "from sklearn.metrics import accuracy_score, confusion_matrix\n",
    "\n",
    "import seaborn as sns\n",
    "import matplotlib.pyplot as plt\n",
    "%matplotlib inline\n",
    "\n",
    "from sklearn.externals.six import StringIO  \n",
    "from IPython.display import Image  \n",
    "from sklearn.tree import export_graphviz\n",
    "import pydotplus"
   ]
  },
  {
   "cell_type": "markdown",
   "metadata": {},
   "source": [
    "## Load Dataset and pre-process data"
   ]
  },
  {
   "cell_type": "code",
   "execution_count": null,
   "metadata": {},
   "outputs": [],
   "source": [
    "!cat datasets-UCI/UCI/diabetes.arff"
   ]
  },
  {
   "cell_type": "code",
   "execution_count": null,
   "metadata": {},
   "outputs": [],
   "source": [
    "raw_data = loadarff('datasets-UCI/UCI/diabetes.arff')\n",
    "df = pd.DataFrame(raw_data[0])"
   ]
  },
  {
   "cell_type": "code",
   "execution_count": null,
   "metadata": {},
   "outputs": [],
   "source": [
    "def map_to_label(class_in):\n",
    "    if 'positive' in str(class_in):\n",
    "        return 1.0\n",
    "    else:\n",
    "        return 0.0\n",
    "\n",
    "df['label'] = df['class'].apply(map_to_label)\n",
    "df.head()"
   ]
  },
  {
   "cell_type": "markdown",
   "metadata": {},
   "source": [
    "## Data visualization"
   ]
  },
  {
   "cell_type": "code",
   "execution_count": null,
   "metadata": {},
   "outputs": [],
   "source": [
    "# Compute the correlation matrix\n",
    "corr = df.corr()\n",
    "\n",
    "# Generate a mask for the upper triangle\n",
    "mask = np.zeros_like(corr, dtype=np.bool)\n",
    "mask[np.triu_indices_from(mask)] = True\n",
    "\n",
    "# Set up the matplotlib figure\n",
    "f, ax = plt.subplots(figsize=(11, 9))\n",
    "\n",
    "# Generate a custom diverging colormap\n",
    "cmap = sns.diverging_palette(220, 10, as_cmap=True)\n",
    "\n",
    "# Draw the heatmap with the mask and correct aspect ratio\n",
    "sns.heatmap(corr, mask=mask, cmap=cmap, vmin=-0.5, vmax=0.5, center=0,\n",
    "            square=True, linewidths=.5, cbar_kws={\"shrink\": .5}, \n",
    "            annot=True, fmt=\".2f\")\n",
    "\n",
    "plt.savefig('q3_a_corr.eps', format='eps')\n",
    "\n",
    "plt.show()"
   ]
  },
  {
   "cell_type": "code",
   "execution_count": null,
   "metadata": {},
   "outputs": [],
   "source": [
    "sns.pairplot(df, hue=\"label\")\n",
    "plt.savefig('q3_pair.eps', format='eps')\n",
    "plt.show()"
   ]
  },
  {
   "cell_type": "markdown",
   "metadata": {},
   "source": [
    "## Data splitting"
   ]
  },
  {
   "cell_type": "code",
   "execution_count": null,
   "metadata": {},
   "outputs": [],
   "source": [
    "# Features\n",
    "x = df.drop(['class', 'label'], axis=1)  \n",
    "# Labels\n",
    "y = df['label']\n",
    "# Split dataset into training and test set\n",
    "x_train, x_test, y_train, y_test = train_test_split(x, y, \n",
    "                                                    test_size = 0.3, \n",
    "                                                    random_state = 7)\n",
    "# Perform 10-fold cross validation on training/val set\n",
    "kfold = model_selection.KFold(n_splits=10, random_state = 7)"
   ]
  },
  {
   "cell_type": "markdown",
   "metadata": {},
   "source": [
    "### SKlearn Decision Tree (CART model)"
   ]
  },
  {
   "cell_type": "code",
   "execution_count": null,
   "metadata": {},
   "outputs": [],
   "source": [
    "# Perform grid search for criterion, max_depth, \n",
    "# min_samples_leaf and min_samples_split\n",
    "# Save greatest validation results performed on 10-fold cross validation\n",
    "# Use mean score as performance metric\n",
    "top_mean = -999\n",
    "for crit in ['gini', 'entropy']:\n",
    "    for md in range(1,12):\n",
    "        for msl in range(1,12):\n",
    "            for mss in range(2, 5):\n",
    "                clf = tree.DecisionTreeClassifier(criterion = crit, \n",
    "                                                  max_depth=md,\n",
    "                                                  min_samples_leaf=msl, \n",
    "                                                  min_samples_split=mss)\n",
    "                results = model_selection.cross_val_score(clf, \n",
    "                                                          x_train, \n",
    "                                                          y_train, \n",
    "                                                          cv=kfold)\n",
    "                if results.mean() >= top_mean:\n",
    "                    top_mean = results.mean()\n",
    "                    t_std = results.std()\n",
    "                    best_params = [crit, md, msl, mss]\n",
    "\n",
    "# Print best results\n",
    "print(top_mean, t_std)\n",
    "# Print chosen parameters\n",
    "print(best_params)"
   ]
  },
  {
   "cell_type": "code",
   "execution_count": null,
   "metadata": {},
   "outputs": [],
   "source": [
    "# Apply chosen hyper parameters and run on test set\n",
    "clf = tree.DecisionTreeClassifier(criterion = best_params[0], \n",
    "                                  max_depth=best_params[1], \n",
    "                                  min_samples_leaf=best_params[2], \n",
    "                                  min_samples_split=best_params[3])\n",
    "# Fit on training data\n",
    "clf.fit(x_train, y_train)\n",
    "# Score on test data\n",
    "y_pred = clf.predict(x_test)\n",
    "# Calculate accuracy\n",
    "print('Acc:', accuracy_score(y_test, y_pred))"
   ]
  },
  {
   "cell_type": "code",
   "execution_count": null,
   "metadata": {},
   "outputs": [],
   "source": [
    "# Sort features by importance\n",
    "feature_importance = [(importance, name) for name, importance \n",
    "                      in zip(x_train.columns, clf.feature_importances_)]\n",
    "s_feature_importance = sorted(feature_importance, reverse=True)\n",
    "for importance, feature in s_feature_importance:\n",
    "    print('{0:.2f} :: {1}'.format(importance, feature))"
   ]
  },
  {
   "cell_type": "code",
   "execution_count": null,
   "metadata": {},
   "outputs": [],
   "source": [
    "def plot_confusion(y_test, y_pred, norm=True):\n",
    "    cnf_matrix = confusion_matrix(y_test, y_pred)\n",
    "    if norm:\n",
    "        cnf_matrix = cnf_matrix.astype('float')/cnf_matrix.sum(axis=1)[:,np.newaxis]\n",
    "        sns.heatmap(cnf_matrix, annot=True, fmt=\".2f\", cmap=\"YlGnBu\")\n",
    "    else:\n",
    "        sns.heatmap(cnf_matrix, annot=True, fmt=\"d\", cmap=\"YlGnBu\")\n",
    "    plt.ylabel('Classe real')\n",
    "    plt.xlabel('Classe predita')\n",
    "    plt.savefig('q3_a_conf.eps', format='eps')\n",
    "    plt.show()"
   ]
  },
  {
   "cell_type": "code",
   "execution_count": null,
   "metadata": {},
   "outputs": [],
   "source": [
    "plot_confusion(y_test, y_pred, norm=True)"
   ]
  },
  {
   "cell_type": "code",
   "execution_count": null,
   "metadata": {},
   "outputs": [],
   "source": [
    "# Print features\n",
    "for i, feature in enumerate(x_train.columns):\n",
    "    print('X{} :: {}'.format(i, feature))\n",
    "# Print decision tree\n",
    "dot_data = StringIO()\n",
    "export_graphviz(clf, out_file=dot_data,  \n",
    "                filled=True, rounded=True,\n",
    "                special_characters=True)\n",
    "graph = pydotplus.graph_from_dot_data(dot_data.getvalue())  \n",
    "Image(graph.create_png())\n",
    "graph.write_png(\"q3_a_tree.png\")"
   ]
  }
 ],
 "metadata": {
  "kernelspec": {
   "display_name": "Python 3",
   "language": "python",
   "name": "python3"
  },
  "language_info": {
   "codemirror_mode": {
    "name": "ipython",
    "version": 3
   },
   "file_extension": ".py",
   "mimetype": "text/x-python",
   "name": "python",
   "nbconvert_exporter": "python",
   "pygments_lexer": "ipython3",
   "version": "3.6.6"
  }
 },
 "nbformat": 4,
 "nbformat_minor": 2
}
