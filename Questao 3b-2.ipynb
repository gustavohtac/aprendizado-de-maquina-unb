{
 "cells": [
  {
   "cell_type": "code",
   "execution_count": null,
   "metadata": {},
   "outputs": [],
   "source": [
    "import weka.core.jvm as jvm\n",
    "jvm.start()"
   ]
  },
  {
   "cell_type": "code",
   "execution_count": null,
   "metadata": {},
   "outputs": [],
   "source": [
    "import numpy as np\n",
    "\n",
    "from weka.classifiers import Classifier, Evaluation\n",
    "from weka.core.converters import Loader\n",
    "from weka.core.classes import Random\n",
    "\n",
    "from weka.filters import Filter\n",
    "from weka.classifiers import FilteredClassifier\n",
    "\n",
    "import weka.plot.classifiers as plcls\n",
    "import weka.plot.graph as graph  # NB: pygraphviz and PIL are required\n",
    "\n",
    "import seaborn as sns\n",
    "import matplotlib.pyplot as plt"
   ]
  },
  {
   "cell_type": "markdown",
   "metadata": {},
   "source": [
    "## Load dataset"
   ]
  },
  {
   "cell_type": "code",
   "execution_count": null,
   "metadata": {},
   "outputs": [],
   "source": [
    "loader = Loader(classname=\"weka.core.converters.ArffLoader\")\n",
    "data = loader.load_file('datasets-UCI/UCI/breast-w.arff')\n",
    "data.class_is_last()"
   ]
  },
  {
   "cell_type": "markdown",
   "metadata": {},
   "source": [
    "## Data splitting"
   ]
  },
  {
   "cell_type": "code",
   "execution_count": null,
   "metadata": {},
   "outputs": [],
   "source": [
    "# 70% for training/validation set\n",
    "remove_train_val = Filter(classname=\"weka.filters.unsupervised.instance.Resample\", \n",
    "                          options=['-S', '1', '-Z', '70', '-no-replacement'])\n",
    "remove_train_val.inputformat(data)\n",
    "train_val_set = remove_train_val.filter(data)\n",
    "# 30% for test set\n",
    "remove_test = Filter(classname=\"weka.filters.unsupervised.instance.Resample\", \n",
    "                     options=['-S', '1', '-Z', '70', '-no-replacement', '-V'])\n",
    "remove_test.inputformat(data)\n",
    "test_set = remove_test.filter(data)"
   ]
  },
  {
   "cell_type": "code",
   "execution_count": null,
   "metadata": {},
   "outputs": [],
   "source": [
    "print(data.num_instances)\n",
    "print(train_val_set.num_instances)\n",
    "print(test_set.num_instances)"
   ]
  },
  {
   "cell_type": "markdown",
   "metadata": {},
   "source": [
    "### WEKA Decision Tree (J48 model)"
   ]
  },
  {
   "cell_type": "code",
   "execution_count": null,
   "metadata": {},
   "outputs": [],
   "source": [
    "top_mean = -999\n",
    "\n",
    "for m in range(1,20):\n",
    "    for c in np.arange(0.05, 1.0, 0.025):\n",
    "        cls = Classifier(classname=\"weka.classifiers.trees.J48\")\n",
    "        cls.options = ['-C', str(c), '-M', str(m)]\n",
    "        cls.build_classifier(train_val_set)\n",
    "        evl = Evaluation(train_val_set)\n",
    "        evl.crossvalidate_model(cls, train_val_set, 10, Random(1))\n",
    "        acc = evl.percent_correct\n",
    "        if acc > top_mean:\n",
    "            top_mean = acc\n",
    "            best_params = [c, m]\n",
    "            best_cls = cls\n",
    "\n",
    "# Print best results\n",
    "print(top_mean)\n",
    "# Print chosen parameters\n",
    "print(best_params)"
   ]
  },
  {
   "cell_type": "code",
   "execution_count": null,
   "metadata": {},
   "outputs": [],
   "source": [
    "evl = Evaluation(test_set)\n",
    "evl.test_model(best_cls, test_set)\n",
    "evl.percent_correct"
   ]
  },
  {
   "cell_type": "code",
   "execution_count": null,
   "metadata": {},
   "outputs": [],
   "source": [
    "print(best_cls)\n",
    "print(evl.summary())\n",
    "print(evl.class_details())"
   ]
  },
  {
   "cell_type": "code",
   "execution_count": null,
   "metadata": {},
   "outputs": [],
   "source": [
    "def plot_confusion(best_cls, data, norm=True):\n",
    "    evl = Evaluation(data)\n",
    "    evl.crossvalidate_model(best_cls, data, 10, Random(1))\n",
    "    cnf_matrix = evl.confusion_matrix\n",
    "    if norm:\n",
    "        cnf_matrix = cnf_matrix.astype('float')/cnf_matrix.sum(axis=1)[:,np.newaxis]\n",
    "        sns.heatmap(cnf_matrix, annot=True, fmt=\".2f\", cmap=\"YlGnBu\")\n",
    "    else:\n",
    "        sns.heatmap(cnf_matrix, annot=True, fmt=\"d\", cmap=\"YlGnBu\")\n",
    "    plt.ylabel('True label')\n",
    "    plt.xlabel('Predicted label')\n",
    "    plt.title('Confusion Matrix')\n",
    "    plt.show()"
   ]
  },
  {
   "cell_type": "code",
   "execution_count": null,
   "metadata": {},
   "outputs": [],
   "source": [
    "plot_confusion(best_cls, test_set, norm=True)"
   ]
  },
  {
   "cell_type": "code",
   "execution_count": null,
   "metadata": {},
   "outputs": [],
   "source": [
    "plcls.plot_roc(evl, class_index=[0, 1], wait=True)"
   ]
  },
  {
   "cell_type": "code",
   "execution_count": null,
   "metadata": {},
   "outputs": [],
   "source": [
    "graph.plot_dot_graph(best_cls.graph)"
   ]
  },
  {
   "cell_type": "code",
   "execution_count": null,
   "metadata": {},
   "outputs": [],
   "source": [
    "jvm.stop()"
   ]
  }
 ],
 "metadata": {
  "kernelspec": {
   "display_name": "Python 3",
   "language": "python",
   "name": "python3"
  },
  "language_info": {
   "codemirror_mode": {
    "name": "ipython",
    "version": 3
   },
   "file_extension": ".py",
   "mimetype": "text/x-python",
   "name": "python",
   "nbconvert_exporter": "python",
   "pygments_lexer": "ipython3",
   "version": "3.6.6"
  }
 },
 "nbformat": 4,
 "nbformat_minor": 2
}
